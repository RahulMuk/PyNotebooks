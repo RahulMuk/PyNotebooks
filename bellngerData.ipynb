{
 "cells": [
  {
   "cell_type": "code",
   "execution_count": 1,
   "metadata": {},
   "outputs": [],
   "source": [
    "import pandas as pd\n",
    "from urllib.request import urlopen\n",
    "from bs4 import BeautifulSoup, Comment\n",
    "import json\n",
    "import seaborn as sns\n",
    "import matplotlib.pyplot as plt\n",
    "%matplotlib inline"
   ]
  },
  {
   "cell_type": "code",
   "execution_count": 2,
   "metadata": {},
   "outputs": [],
   "source": [
    "def ReturnPercent (url):\n",
    "    df = pd.read_csv(url)\n",
    "    Edited = df[(df['hit_speed'] >= 95) & (df['hit_speed'] <= 105) & (df['hit_angle'] >= 5) & (df['hit_angle'] <= 30)]\n",
    "    print(Edited['count'].sum() / df['count'].sum())"
   ]
  },
  {
   "cell_type": "code",
   "execution_count": 3,
   "metadata": {},
   "outputs": [
    {
     "name": "stdout",
     "output_type": "stream",
     "text": [
      "0.17796610169491525\n",
      "0.25773195876288657\n",
      "0.18410041841004185\n",
      "0.3433962264150943\n"
     ]
    }
   ],
   "source": [
    "ReturnPercent('Trout.csv')\n",
    "ReturnPercent('Arenado.csv')\n",
    "ReturnPercent('Yelich.csv')\n",
    "ReturnPercent('Bellinger2019.csv')"
   ]
  },
  {
   "cell_type": "code",
   "execution_count": 5,
   "metadata": {},
   "outputs": [
    {
     "name": "stdout",
     "output_type": "stream",
     "text": [
      "0.2200488997555012\n",
      "0.24925816023738873\n"
     ]
    }
   ],
   "source": [
    "ReturnPercent('Bellinger2018.csv')\n",
    "ReturnPercent('Bellinger2017.csv')"
   ]
  },
  {
   "cell_type": "code",
   "execution_count": 4,
   "metadata": {},
   "outputs": [
    {
     "name": "stdout",
     "output_type": "stream",
     "text": [
      "0.17553191489361702\n"
     ]
    }
   ],
   "source": [
    "ReturnPercent('Trout.csv')"
   ]
  },
  {
   "cell_type": "code",
   "execution_count": 9,
   "metadata": {},
   "outputs": [
    {
     "name": "stdout",
     "output_type": "stream",
     "text": [
      "0.33540372670807456\n",
      "0.2794759825327511\n"
     ]
    }
   ],
   "source": [
    "ReturnPercent('Dahl.csv')\n",
    "ReturnPercent('Freeman.csv')"
   ]
  },
  {
   "cell_type": "code",
   "execution_count": 4,
   "metadata": {},
   "outputs": [],
   "source": [
    "def ReturnHR (url):\n",
    "    df = pd.read_csv(url)\n",
    "    Edited = df[(df['hit_speed'] >= 95) & (df['hit_speed'] <= 115) & (df['hit_angle'] >= 25) & (df['hit_angle'] <= 35)]\n",
    "    print(Edited['count'].sum() / df['count'].sum())"
   ]
  },
  {
   "cell_type": "code",
   "execution_count": 9,
   "metadata": {},
   "outputs": [
    {
     "name": "stdout",
     "output_type": "stream",
     "text": [
      "0.14583333333333334\n",
      "0.18229166666666666\n"
     ]
    }
   ],
   "source": [
    "ReturnHR('Trout.csv')\n",
    "ReturnPercent('Trout.csv')"
   ]
  },
  {
   "cell_type": "code",
   "execution_count": 9,
   "metadata": {},
   "outputs": [
    {
     "name": "stdout",
     "output_type": "stream",
     "text": [
      "0.1278538812785388\n",
      "0.10852713178294573\n",
      "0.14553990610328638\n",
      "0.15486725663716813\n",
      "0.15527950310559005\n"
     ]
    }
   ],
   "source": [
    "ReturnHR('Bell.csv')\n",
    "ReturnHR('Arenado.csv')\n",
    "ReturnHR('Yelich.csv')\n",
    "ReturnHR('Bellinger2019.csv')\n",
    "ReturnHR('Rendon.csv')"
   ]
  },
  {
   "cell_type": "code",
   "execution_count": 4,
   "metadata": {},
   "outputs": [],
   "source": [
    "def GetHits(url):\n",
    "    df = pd.read_csv(url)\n",
    "    df2 = df[(df['hit_speed'] >= 95) & (df['hit_speed'] <= 105) & (df['hit_angle'] >= 5) & (df['hit_angle'] <= 30)]\n",
    "    Outs = len(df2[(df2['events']=='field_out')]) + len(df2[(df2['events']=='force_out')]) \n",
    "    Hits = len(df2) - Outs\n",
    "    totalHits = len(df) - (len(df[(df['events']=='field_out')]) + len(df[(df['events']=='force_out')])) \n",
    "    percent = Hits / totalHits\n",
    "    print(percent)"
   ]
  },
  {
   "cell_type": "code",
   "execution_count": 5,
   "metadata": {},
   "outputs": [
    {
     "name": "stdout",
     "output_type": "stream",
     "text": [
      "0.30833333333333335\n"
     ]
    }
   ],
   "source": [
    "GetHits('Bellinger2019DF.csv')"
   ]
  },
  {
   "cell_type": "code",
   "execution_count": null,
   "metadata": {},
   "outputs": [],
   "source": []
  }
 ],
 "metadata": {
  "kernelspec": {
   "display_name": "Python 3",
   "language": "python",
   "name": "python3"
  },
  "language_info": {
   "codemirror_mode": {
    "name": "ipython",
    "version": 3
   },
   "file_extension": ".py",
   "mimetype": "text/x-python",
   "name": "python",
   "nbconvert_exporter": "python",
   "pygments_lexer": "ipython3",
   "version": "3.7.1"
  }
 },
 "nbformat": 4,
 "nbformat_minor": 2
}
